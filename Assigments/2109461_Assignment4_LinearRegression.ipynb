{
  "nbformat": 4,
  "nbformat_minor": 0,
  "metadata": {
    "colab": {
      "provenance": []
    },
    "kernelspec": {
      "name": "python3",
      "display_name": "Python 3"
    },
    "language_info": {
      "name": "python"
    }
  },
  "cells": [
    {
      "cell_type": "markdown",
      "source": [
        "#Assignment 4.- Linear Regression\n",
        "\n",
        "Guillermo Sebastian Farias Dominguez (2001725)                                   \n",
        "Ismael Gutierrez Puente (1995316)                                                \n",
        "Jocelyn Benitez Ramirez (2109461)\n",
        "\n",
        "Class Day: Thursday                                                              \n",
        "Hour: N4-N6"
      ],
      "metadata": {
        "id": "1Rh2t8t99wzD"
      }
    },
    {
      "cell_type": "markdown",
      "source": [
        "# Part 1: Load Libraries"
      ],
      "metadata": {
        "id": "RC3iMiQHKgOu"
      }
    },
    {
      "cell_type": "code",
      "execution_count": 1,
      "metadata": {
        "id": "9Scp7K6b9veJ"
      },
      "outputs": [],
      "source": [
        "# Load Libraries\n",
        "import numpy as np\n",
        "import matplotlib.pyplot as plt\n",
        "from sklearn.model_selection import train_test_split\n",
        "from sklearn.linear_model import LinearRegression\n",
        "from sklearn.metrics import mean_squared_error\n",
        "from scipy.stats import pearsonr\n",
        "import pandas as pd"
      ]
    },
    {
      "cell_type": "markdown",
      "source": [
        "# Part 2: Load Data\n"
      ],
      "metadata": {
        "id": "2wsZV4t_KnNq"
      }
    },
    {
      "cell_type": "code",
      "source": [
        "# Load Data\n",
        "np.random.seed(0)\n",
        "study_hours = np.random.rand(500, 1) * 10\n",
        "grades = study_hours + np.random.randn(500, 1)"
      ],
      "metadata": {
        "id": "A1OpFxA4-td8"
      },
      "execution_count": 2,
      "outputs": []
    },
    {
      "cell_type": "markdown",
      "source": [
        "#Part 3: Data Preprocessing"
      ],
      "metadata": {
        "id": "-TNS3p6GKvHk"
      }
    },
    {
      "cell_type": "code",
      "source": [
        "# Data Preprocessing\n",
        "X_train, X_test, y_train, y_test = train_test_split(study_hours, grades, test_size=0.2, random_state=42)\n",
        "\n",
        "#Eliminate data that is impossible to provide (Negative grades or grades above 10)\n",
        "y_train = np.clip(y_train, 0, 10)\n",
        "y_test = np.clip(y_test, 0, 10)\n",
        "\n",
        "# Flatten the arrays to make them 1-dimensional (This is to create a DataFrame)\n",
        "X_train_flat = X_train.flatten()\n",
        "X_test_flat = X_test.flatten()\n",
        "y_train_flat = y_train.flatten()\n",
        "y_test_flat = y_test.flatten()\n",
        "\n",
        "# Create a DataFrame to display the data\n",
        "data_df = pd.DataFrame({'Study Hours': np.concatenate((X_train_flat, X_test_flat)),\n",
        "                        'Grades': np.concatenate((y_train_flat, y_test_flat))})\n",
        "\n",
        "# Display the data in a table\n",
        "print(\"Data for Linear Regression: \\n\")\n",
        "print(data_df)\n",
        "\n",
        "# Calculate the Pearson linear classification coefficient\n",
        "r, _ = pearsonr(study_hours.flatten(), grades.flatten())\n",
        "print(\"\\nPearson Correlation Coefficient (r):\", r)"
      ],
      "metadata": {
        "colab": {
          "base_uri": "https://localhost:8080/"
        },
        "id": "F0mOsYp2-vgK",
        "outputId": "49fcb035-fe4a-4c21-ceb6-30bcd1a13f80"
      },
      "execution_count": 3,
      "outputs": [
        {
          "output_type": "stream",
          "name": "stdout",
          "text": [
            "Data for Linear Regression: \n",
            "\n",
            "     Study Hours    Grades\n",
            "0       4.880563  5.283827\n",
            "1       6.658591  6.681551\n",
            "2       8.700121  9.055603\n",
            "3       0.553743  1.818821\n",
            "4       0.568481  1.590271\n",
            "..           ...       ...\n",
            "495     3.068101  2.016221\n",
            "496     5.232481  4.956810\n",
            "497     0.391878  0.000000\n",
            "498     7.065747  6.398027\n",
            "499     0.871293  0.000000\n",
            "\n",
            "[500 rows x 2 columns]\n",
            "\n",
            "Pearson Correlation Coefficient (r): 0.9477131441818437\n"
          ]
        }
      ]
    },
    {
      "cell_type": "markdown",
      "source": [
        "#Part 5: Model Selection and Training"
      ],
      "metadata": {
        "id": "nMmtN8jWK35d"
      }
    },
    {
      "cell_type": "code",
      "source": [
        "# Model Selection and Training\n",
        "model = LinearRegression()\n",
        "model.fit(X_train, y_train)\n",
        "\n",
        "# Plotting the linear regression line equation\n",
        "print(\"Linear Regression Equation: y = {:.2f}x + {:.2f}\".format(model.coef_[0][0], model.intercept_[0]))"
      ],
      "metadata": {
        "colab": {
          "base_uri": "https://localhost:8080/"
        },
        "id": "yBpMLN9t-y99",
        "outputId": "07ad1aaa-a2cb-42f6-94ee-e5ae90a17a70"
      },
      "execution_count": 4,
      "outputs": [
        {
          "output_type": "stream",
          "name": "stdout",
          "text": [
            "Linear Regression Equation: y = 0.98x + 0.01\n"
          ]
        }
      ]
    },
    {
      "cell_type": "markdown",
      "source": [
        "#Part 6: Model Testing"
      ],
      "metadata": {
        "id": "XbM0WuNKK-Z7"
      }
    },
    {
      "cell_type": "code",
      "source": [
        "# Model Testing\n",
        "predictions = model.predict(X_test)\n",
        "\n",
        "# Calculate mean squared error\n",
        "mse = mean_squared_error(y_test, predictions)\n",
        "print(\"Mean Squared Error:\", mse)"
      ],
      "metadata": {
        "colab": {
          "base_uri": "https://localhost:8080/"
        },
        "id": "QCBchoPW-71I",
        "outputId": "b34274e1-7bab-4ffa-eac1-2e5410c12aa3"
      },
      "execution_count": 5,
      "outputs": [
        {
          "output_type": "stream",
          "name": "stdout",
          "text": [
            "Mean Squared Error: 0.7963155868316923\n"
          ]
        }
      ]
    },
    {
      "cell_type": "markdown",
      "source": [],
      "metadata": {
        "id": "Bml-5upGKJcn"
      }
    },
    {
      "cell_type": "code",
      "source": [
        "# Mostrar el modelo de regresión lineal\n",
        "plt.scatter(X_test, y_test, color='blue')\n",
        "plt.plot(X_test, predictions, color='red')\n",
        "plt.xlabel('Study Hours')\n",
        "plt.ylabel('Grades')\n",
        "plt.title('Linear Regression Model')\n",
        "plt.show()"
      ],
      "metadata": {
        "colab": {
          "base_uri": "https://localhost:8080/",
          "height": 472
        },
        "id": "D_QiktpsA34Z",
        "outputId": "9cd59503-1ef8-4310-e664-7f4f8dd7b636"
      },
      "execution_count": 6,
      "outputs": [
        {
          "output_type": "display_data",
          "data": {
            "text/plain": [
              "<Figure size 640x480 with 1 Axes>"
            ],
            "image/png": "[encoded data removed]"
          },
          "metadata": {}
        }
      ]
    }
  ]
}